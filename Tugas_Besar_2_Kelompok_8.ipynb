{
  "nbformat": 4,
  "nbformat_minor": 0,
  "metadata": {
    "colab": {
      "name": "Tugas Besar 2 Kelompok 8.ipynb",
      "private_outputs": true,
      "provenance": [],
      "collapsed_sections": [],
      "toc_visible": true
    },
    "kernelspec": {
      "name": "python3",
      "display_name": "Python 3"
    }
  },
  "cells": [
    {
      "cell_type": "markdown",
      "metadata": {
        "id": "q-X3k32vsBRZ"
      },
      "source": [
        "# **Tugas Besar 2**\n",
        "## Kelompok 8:\n",
        "1. 16520289&emsp;Gagas Praharsa Bahar\n",
        "2. 16520299&emsp;Malik Akbar Hashemi Rafsanjani\n",
        "3. 16520309&emsp;Alifia Rahmah\n",
        "4. 16520319&emsp;Ng Kyle\n",
        "\n",
        "## Sumber data: \n",
        "Trending YouTube Video Statistics (US Videos) - Mitchell J ([Kaggle](https://www.kaggle.com/datasnaek/youtube-new))\n",
        "\n",
        "### Data utama : USvideos.csv (59.85 MB)\n",
        "Sumber data dengan ukuran 40949 baris x 16 kolom\n",
        "\n",
        "### Data penunjang : US_category_id.json (8.3 KB)\n",
        "referensi category_id dengan category_name yang akan membantu pada pengolahan data selanjutnya.\n"
      ]
    },
    {
      "cell_type": "markdown",
      "metadata": {
        "id": "ULlDP7cqsF9_"
      },
      "source": [
        "## **Inisialisasi**"
      ]
    },
    {
      "cell_type": "code",
      "metadata": {
        "id": "YwDrfD4jMUbL"
      },
      "source": [
        "# import module yang dibutuhkan\n",
        "import numpy as np\n",
        "import pandas as pd\n",
        "import json\n",
        "import matplotlib.pyplot as plt\n",
        "import seaborn as sns\n",
        "from sklearn.linear_model import LinearRegression\n",
        "from pandas.plotting import scatter_matrix\n",
        "\n",
        "# link file csv dan json\n",
        "url_csv = 'https://github.com/malikrafsan/test/raw/main/USvideos.csv'\n",
        "url_json = 'https://github.com/malikrafsan/Tugas-Besar2-KU1102/raw/main/US_category_id.json'"
      ],
      "execution_count": null,
      "outputs": []
    },
    {
      "cell_type": "code",
      "metadata": {
        "id": "ZWGdOkYoJauc"
      },
      "source": [
        "# Membaca file csv dan json\n",
        "df = pd.read_csv(url_csv)\n",
        "data = pd.read_json(url_json)"
      ],
      "execution_count": null,
      "outputs": []
    },
    {
      "cell_type": "code",
      "metadata": {
        "id": "jgYk5ntAQApo"
      },
      "source": [
        "# Membuat list berisi tuple pasangan category_id dan category_name\n",
        "lst = []\n",
        "for i in range(len(data[\"items\"])):\n",
        "    lst.append((data[\"items\"][i][\"id\"],data[\"items\"][i][\"snippet\"][\"title\"]))"
      ],
      "execution_count": null,
      "outputs": []
    },
    {
      "cell_type": "code",
      "metadata": {
        "id": "1WAVmS6-QDOh"
      },
      "source": [
        "# Menambahkan kolom \"category_name\" dan mengisinya sesuai category_id\n",
        "df.insert(len(df.columns),'category_name','')\n",
        "for i in range(len(df)):\n",
        "    for j in range(len(lst)):\n",
        "        if int(df[\"category_id\"][i]) == int(lst[j][0]):\n",
        "            df[\"category_name\"][i] = lst[j][1]"
      ],
      "execution_count": null,
      "outputs": []
    },
    {
      "cell_type": "code",
      "metadata": {
        "id": "d5Z7M91NQUkf"
      },
      "source": [
        "df.head()"
      ],
      "execution_count": null,
      "outputs": []
    },
    {
      "cell_type": "markdown",
      "metadata": {
        "id": "wZbppyhUPU_9"
      },
      "source": [
        "## **Karakteristik data**"
      ]
    },
    {
      "cell_type": "code",
      "metadata": {
        "id": "9QA4k9be8zs-"
      },
      "source": [
        "#Ukuran Data\n",
        "print(\"Banyak Baris :\", len(df))\n",
        "print(\"Banyak Kolom :\", len(df.columns))"
      ],
      "execution_count": null,
      "outputs": []
    },
    {
      "cell_type": "code",
      "metadata": {
        "id": "yBAWzFDm9nF3"
      },
      "source": [
        "#Mencari data unik\n",
        "for i in range (len(df.columns)):\n",
        "  print(\"Data unik kolom\", df.columns[i],\"ada sebanyak\", len(df.iloc[:,i].unique()))"
      ],
      "execution_count": null,
      "outputs": []
    },
    {
      "cell_type": "code",
      "metadata": {
        "id": "kESVV9pZBCQV"
      },
      "source": [
        "#Mencari range atau member category tiap kolom time series dan numerikal\n",
        "num_date = [\"trending_date\",\"publish_time\",\"views\",\"likes\",\"dislikes\"]\n",
        "for i in num_date:\n",
        "  print(\"Kolom\", i, \"memiliki range :\", df[i].min(), \"--\",df[i].max())\n",
        "print()"
      ],
      "execution_count": null,
      "outputs": []
    },
    {
      "cell_type": "code",
      "metadata": {
        "id": "DvWkpOpZU2Ks"
      },
      "source": [
        "#Mencari nilai unik kategorikal\n",
        "kategorikal = [\"category_id\", \"category_name\"]\n",
        "for i in kategorikal:\n",
        "  print(\"Member pada kolom\", i, \"adalah:\")\n",
        "  for j in df[i].unique():\n",
        "    print(j)\n",
        "  print()"
      ],
      "execution_count": null,
      "outputs": []
    },
    {
      "cell_type": "code",
      "metadata": {
        "id": "d0sCqN0NZkXA"
      },
      "source": [
        "df.info()"
      ],
      "execution_count": null,
      "outputs": []
    },
    {
      "cell_type": "markdown",
      "metadata": {
        "id": "RoiPOqe-sL5u"
      },
      "source": [
        "# **Data Preprocessing**"
      ]
    },
    {
      "cell_type": "code",
      "metadata": {
        "id": "h7oQSP0vqrLx"
      },
      "source": [
        "# delete kolom yang tidak diperlukan\n",
        "df.drop('video_id', inplace=True, axis=1)       # tidak dibutuhkan\n",
        "df.drop('thumbnail_link', inplace=True, axis=1) # tidak dibutuhkan\n",
        "df.drop('description', inplace=True, axis=1)    # tidak dibutuhkan\n",
        "df.drop('category_id', inplace=True, axis=1)    # digantikan category_name\n",
        "df.drop('tags', inplace=True, axis=1)           # tidak dibutuhkan"
      ],
      "execution_count": null,
      "outputs": []
    },
    {
      "cell_type": "code",
      "metadata": {
        "id": "ukBu6ckS5Ts3"
      },
      "source": [
        "# mengubah tipe data publish_time dan trending_date menjadi time series \n",
        "df['publish_time'] = pd.to_datetime(df['publish_time'], format='%Y-%m-%dT%H:%M:%S.%fZ')\n",
        "df[\"trending_date\"]=pd.to_datetime(df[\"trending_date\"],format=\"%y.%d.%m\")"
      ],
      "execution_count": null,
      "outputs": []
    },
    {
      "cell_type": "code",
      "metadata": {
        "id": "idkQZFQaO6w3"
      },
      "source": [
        "df.head()"
      ],
      "execution_count": null,
      "outputs": []
    },
    {
      "cell_type": "code",
      "metadata": {
        "id": "pNUKjU8rZ3a2"
      },
      "source": [
        "df.info()"
      ],
      "execution_count": null,
      "outputs": []
    },
    {
      "cell_type": "markdown",
      "metadata": {
        "id": "3B11isHhurti"
      },
      "source": [
        "# **Data Analysis**"
      ]
    },
    {
      "cell_type": "markdown",
      "metadata": {
        "id": "SYQEEIXKEXBz"
      },
      "source": [
        "### Statistik umum setiap atribut data numerik"
      ]
    },
    {
      "cell_type": "code",
      "metadata": {
        "id": "JCsQEgI3rFEG"
      },
      "source": [
        "# informasi singkat data numerik\n",
        "df.describe()"
      ],
      "execution_count": null,
      "outputs": []
    },
    {
      "cell_type": "code",
      "metadata": {
        "id": "Jco9DBNEGGDB"
      },
      "source": [
        "# Rata-rata\n",
        "df.mean()"
      ],
      "execution_count": null,
      "outputs": []
    },
    {
      "cell_type": "code",
      "metadata": {
        "id": "rfNeWCtyHWyb"
      },
      "source": [
        "# Standar deviasi\n",
        "df.std()"
      ],
      "execution_count": null,
      "outputs": []
    },
    {
      "cell_type": "code",
      "metadata": {
        "id": "ThFvypN2K3hd"
      },
      "source": [
        "#Ekstremum minimum\n",
        "df.min(numeric_only=True)"
      ],
      "execution_count": null,
      "outputs": []
    },
    {
      "cell_type": "code",
      "metadata": {
        "id": "aj6rgZyJLH72"
      },
      "source": [
        "#Ekstremum maksimum\n",
        "df.max(numeric_only=True)"
      ],
      "execution_count": null,
      "outputs": []
    },
    {
      "cell_type": "code",
      "metadata": {
        "id": "1SDJ-A0DIO2_"
      },
      "source": [
        "#persentil\n",
        "persentil = [0.1,0.25,0.5,0.75,0.9]\n",
        "for i in persentil:\n",
        "  print(\"Persentil\", i*100,\"%\")\n",
        "  print(df.quantile(i))\n",
        "  print()"
      ],
      "execution_count": null,
      "outputs": []
    },
    {
      "cell_type": "markdown",
      "metadata": {
        "id": "hUBG58DrFC_c"
      },
      "source": [
        "### Statistik data Channel"
      ]
    },
    {
      "cell_type": "code",
      "metadata": {
        "id": "21siFh1xwUZ2"
      },
      "source": [
        "# tabel frekuensi daftar 10 channel yang pernah masuk trending (paling sering)\n",
        "df['channel_title'].value_counts()[:10]"
      ],
      "execution_count": null,
      "outputs": []
    },
    {
      "cell_type": "markdown",
      "metadata": {
        "id": "1B7k07CFEd4q"
      },
      "source": [
        "### Statistik data Category"
      ]
    },
    {
      "cell_type": "code",
      "metadata": {
        "id": "_uPMoFancZCq"
      },
      "source": [
        "# statistik yang dikelompokkan berdasarkan category_name\n",
        "frekuensi_kategori = df.groupby(\"category_name\").sum()\n",
        "frekuensi_kategori"
      ],
      "execution_count": null,
      "outputs": []
    },
    {
      "cell_type": "code",
      "metadata": {
        "id": "fW9QdMVKHlLE"
      },
      "source": [
        "# tabel frekuensi category-category yang pernah masuk trending \n",
        "# dan seberapa sering video dengan kategori tersebut masuk\n",
        "df['category_name'].value_counts()"
      ],
      "execution_count": null,
      "outputs": []
    },
    {
      "cell_type": "markdown",
      "metadata": {
        "id": "sonJZhh61lpQ"
      },
      "source": [
        "### Statistik data Views"
      ]
    },
    {
      "cell_type": "code",
      "metadata": {
        "id": "dMLk5UjKIEEG"
      },
      "source": [
        "# banyak views terbanyak dan tersedikit\n",
        "print(\"View terbanyak:\", df[\"views\"].max())\n",
        "print(\"View tersedikit:\", df[\"views\"].min())"
      ],
      "execution_count": null,
      "outputs": []
    },
    {
      "cell_type": "code",
      "metadata": {
        "id": "ZHC5uCP2Wp4B"
      },
      "source": [
        "# Video dengan banyak views terbesar\n",
        "df.loc[df['views'] == df['views'].max()]"
      ],
      "execution_count": null,
      "outputs": []
    },
    {
      "cell_type": "code",
      "metadata": {
        "id": "Jk2MAIlqWpqX"
      },
      "source": [
        "# Video dengan banyak views terkecil\n",
        "df.loc[df['views'] == df['views'].min()]['title']"
      ],
      "execution_count": null,
      "outputs": []
    },
    {
      "cell_type": "markdown",
      "metadata": {
        "id": "NE7pjrLw0Usl"
      },
      "source": [
        "### Statistik data Likes"
      ]
    },
    {
      "cell_type": "code",
      "metadata": {
        "id": "CUXze-L1Ibmm"
      },
      "source": [
        "# banyak likes terbanyak dan tersedikit\n",
        "print(\"Like terbanyak:\", df[\"likes\"].max())\n",
        "print(\"Like tersedikit:\", df[\"likes\"].min())"
      ],
      "execution_count": null,
      "outputs": []
    },
    {
      "cell_type": "code",
      "metadata": {
        "id": "ROmE9Mw9XgNy"
      },
      "source": [
        "# video dengan banyak likes terbesar\n",
        "df.loc[df['likes'] == df['likes'].max()]"
      ],
      "execution_count": null,
      "outputs": []
    },
    {
      "cell_type": "code",
      "metadata": {
        "id": "GqFQBnok0xF8"
      },
      "source": [
        "# video dengan banyak likes terkecil\n",
        "df.loc[df['likes'] == df['likes'].min()]"
      ],
      "execution_count": null,
      "outputs": []
    },
    {
      "cell_type": "markdown",
      "metadata": {
        "id": "sMq5VMcv2E5D"
      },
      "source": [
        "### Statistik data Dislikes"
      ]
    },
    {
      "cell_type": "code",
      "metadata": {
        "id": "MBLt6ltQIkad"
      },
      "source": [
        "# banyak dislike terbanyak dan tersedikit\n",
        "print(\"Dislike terbanyak:\", df[\"dislikes\"].max())\n",
        "print(\"Dislike tersedikit:\", df[\"dislikes\"].min())"
      ],
      "execution_count": null,
      "outputs": []
    },
    {
      "cell_type": "code",
      "metadata": {
        "id": "rKyu5Aed2GEj"
      },
      "source": [
        "# video dengan dislike terbanyak\n",
        "df.loc[df['dislikes'] == df['dislikes'].max()]"
      ],
      "execution_count": null,
      "outputs": []
    },
    {
      "cell_type": "code",
      "metadata": {
        "id": "CHL_G9Un2J6c"
      },
      "source": [
        "# video dengan dislike tersedikit\n",
        "df.loc[df['dislikes'] == df['dislikes'].min()]"
      ],
      "execution_count": null,
      "outputs": []
    },
    {
      "cell_type": "markdown",
      "metadata": {
        "id": "KVnO3TQJ2VhM"
      },
      "source": [
        "### Statistik data Comment counts"
      ]
    },
    {
      "cell_type": "code",
      "metadata": {
        "id": "8BgXsznRZDvH"
      },
      "source": [
        "# banyak komentar terbanyak dan tersedikit\n",
        "print(\"Comment counts terbanyak:\", df[\"comment_count\"].max())\n",
        "print(\"Comment counts tersedikit:\", df[\"comment_count\"].min())"
      ],
      "execution_count": null,
      "outputs": []
    },
    {
      "cell_type": "code",
      "metadata": {
        "id": "sK8fjN8K2XHp"
      },
      "source": [
        "# video dengan komentar terbanyak\n",
        "df.loc[df['comment_count'] == df['comment_count'].max()]"
      ],
      "execution_count": null,
      "outputs": []
    },
    {
      "cell_type": "code",
      "metadata": {
        "id": "1nXxcQ_P2cA0"
      },
      "source": [
        "# video dengan komentar tersedikit\n",
        "df.loc[df['comment_count'] == df['comment_count'].min()]"
      ],
      "execution_count": null,
      "outputs": []
    },
    {
      "cell_type": "code",
      "metadata": {
        "id": "W7uZpvStZbqS"
      },
      "source": [
        "# video dengan komentar tersedikit, meskipun comments_disabled false\n",
        "df.loc[(df['comment_count'] == df['comment_count'].min()) & (df['comments_disabled'] == False)]"
      ],
      "execution_count": null,
      "outputs": []
    },
    {
      "cell_type": "markdown",
      "metadata": {
        "id": "K8oP2VowI8Az"
      },
      "source": [
        "## Statistik data Publish Time"
      ]
    },
    {
      "cell_type": "code",
      "metadata": {
        "id": "L7uQUNUA4tS2"
      },
      "source": [
        "# pengelompokan data berdasar hari di-publish\n",
        "df[\"publish_time\"].apply(lambda x: x.strftime('%A')).value_counts().to_frame().reset_index()\n"
      ],
      "execution_count": null,
      "outputs": []
    },
    {
      "cell_type": "markdown",
      "metadata": {
        "id": "ljN3aFheuHa2"
      },
      "source": [
        "## Statistik data Trending Date"
      ]
    },
    {
      "cell_type": "code",
      "metadata": {
        "id": "QpFLSdT4AZuI"
      },
      "source": [
        "# pengelompokan data berdasar bulan trending\n",
        "trending = df.groupby([(df.trending_date.dt.year),(df.trending_date.dt.month)]).sum()\n",
        "trending"
      ],
      "execution_count": null,
      "outputs": []
    },
    {
      "cell_type": "markdown",
      "metadata": {
        "id": "ll_6cupQWm2h"
      },
      "source": [
        "# **Visualisasi Data**"
      ]
    },
    {
      "cell_type": "markdown",
      "metadata": {
        "id": "R5gYRrTEak06"
      },
      "source": [
        "### 10 Youtube channel teratas yang paling sering muncul di Trending Videos"
      ]
    },
    {
      "cell_type": "code",
      "metadata": {
        "id": "v5yimWkUXvSU"
      },
      "source": [
        "# horizontal bar plot dari 10 youtube channel teratas yang paling sering muncul di trending \n",
        "df['channel_title'].value_counts().head(10).sort_values().plot(kind='barh', figsize=(10,8))\n",
        "plt.title(\"10 Youtube Channel teratas yang paling sering muncul di Trending Videos\", size=(15))\n",
        "plt.grid(alpha=0.4)\n",
        "plt.show()"
      ],
      "execution_count": null,
      "outputs": []
    },
    {
      "cell_type": "markdown",
      "metadata": {
        "id": "vk_nSA7oGL3v"
      },
      "source": [
        "Data diatas menunjukkan channel yang videonya paling banyak masuk Trending, dengan channel nomor 1 adalah ESPN."
      ]
    },
    {
      "cell_type": "markdown",
      "metadata": {
        "id": "SWHRv-FLKC-0"
      },
      "source": [
        "Berdasarkan grafik diatas, channel yang paling sering masuk Trending biasanya adalah channel yang kontennya rutin dan banyak penggemar, seperti basket dan reality show."
      ]
    },
    {
      "cell_type": "markdown",
      "metadata": {
        "id": "kCtW1Zn8a3Bt"
      },
      "source": [
        "### Jumlah video berdasarkan kategori"
      ]
    },
    {
      "cell_type": "code",
      "metadata": {
        "id": "fokK87l0YVTA"
      },
      "source": [
        "# horizontal bar plot dari jumlah video berdasarkan kategori\n",
        "df['category_name'].value_counts().sort_values().plot(kind='barh', figsize=(10,8))\n",
        "plt.title(\"Jumlah Video Berdasarkan Kategori\", size=15)\n",
        "plt.grid(alpha=0.4)\n",
        "plt.show()"
      ],
      "execution_count": null,
      "outputs": []
    },
    {
      "cell_type": "markdown",
      "metadata": {
        "id": "hrw9rK07GT0A"
      },
      "source": [
        "Grafik diatas adalah grafik jumlah video berdasarkan kategori, dengan kategori dengan jumlah video terbanyak adalah Entertainment."
      ]
    },
    {
      "cell_type": "markdown",
      "metadata": {
        "id": "61x3cogKJ0IT"
      },
      "source": [
        "Insight yang didapatkan dari grafik ini adalah kategori entertainment paling sering masuk trending, yang disusul dengan Music. Ini artinya banyak pengguna YouTube yang menonton untuk mendapatkan konten hiburan/mendengar musik."
      ]
    },
    {
      "cell_type": "markdown",
      "metadata": {
        "id": "dwbVFvLOrQ39"
      },
      "source": [
        "### Perbandingan Jumlah Views Setiap Kategori"
      ]
    },
    {
      "cell_type": "code",
      "metadata": {
        "id": "5zCvEeYyQWpR"
      },
      "source": [
        "# line plot perbandingan jumlah nilai views setiap kategori\n",
        "df.groupby([\"trending_date\",\"category_name\"])[\"views\"].sum().unstack().plot(kind=\"line\",figsize=(17,8),title=\"Perbandingan jumlah nilai views setiap kategori\")\n",
        "plt.xlabel(\"Tanggal\")\n",
        "plt.ylabel(\"Views\")\n",
        "plt.show()"
      ],
      "execution_count": null,
      "outputs": []
    },
    {
      "cell_type": "markdown",
      "metadata": {
        "id": "S-eisic5qz3C"
      },
      "source": [
        "Dari grafik diatas, diketahui bahwa kategori Music naik mendominasi Trending dimulai dari bulan April 2018. Sebelum April 2018, kategori Music dan Entertainment bersaing untuk mendapatkan views terbanyak pada video yang trending."
      ]
    },
    {
      "cell_type": "code",
      "metadata": {
        "id": "jjob4uo1RHtg"
      },
      "source": [
        "# line plot perbandingan jumlah nilai views setiap kategori pada tahun 2017\n",
        "df.loc[df[\"trending_date\"].dt.year == 2017].groupby([\"trending_date\",\"category_name\"])[\"views\"].sum().unstack().plot(kind=\"line\",figsize=(17,8),title=\"Perbandingan jumlah nilai views setiap kategori pada tahun 2017\")\n",
        "plt.xlabel(\"Tanggal\")\n",
        "plt.ylabel(\"Views\")\n",
        "plt.show()"
      ],
      "execution_count": null,
      "outputs": []
    },
    {
      "cell_type": "markdown",
      "metadata": {
        "id": "-gifDqvdrZtU"
      },
      "source": [
        "Berbeda dengan keseluruhan data, pada tahun 2017 kategori Entertainment lebih mendominasi."
      ]
    },
    {
      "cell_type": "code",
      "metadata": {
        "id": "gDHtRtCV0qFi"
      },
      "source": [
        "# line plot perbandingan jumlah nilai views setiap kategori pada tahun 2018\n",
        "df.loc[df[\"trending_date\"].dt.year == 2018].groupby([\"trending_date\",\"category_name\"])[\"views\"].sum().unstack().plot(kind=\"line\",figsize=(17,8),title=\"Perbandingan jumlah nilai views setiap kategori pada tahun 2018\")\n",
        "plt.xlabel(\"Tanggal\")\n",
        "plt.ylabel(\"Views\")\n",
        "plt.show()"
      ],
      "execution_count": null,
      "outputs": []
    },
    {
      "cell_type": "markdown",
      "metadata": {
        "id": "A88n8thFW2bP"
      },
      "source": [
        "### Perbandingan Jumlah Views Setiap Kategori"
      ]
    },
    {
      "cell_type": "code",
      "metadata": {
        "id": "ieM83K-HM-1T"
      },
      "source": [
        "# line plot perbandingan data tiap bulannya\n",
        "trending.plot(kind=\"line\", figsize = (17,8), title='Perbandingan data tiap bulan')"
      ],
      "execution_count": null,
      "outputs": []
    },
    {
      "cell_type": "markdown",
      "metadata": {
        "id": "VVqBHmCD8Lzp"
      },
      "source": [
        "### Hubungan keseluruhan-bagian"
      ]
    },
    {
      "cell_type": "code",
      "metadata": {
        "id": "3sTTa0yZB9ow"
      },
      "source": [
        "# pie chart\n",
        "plt.figure(figsize=(10,10))\n",
        "df.groupby('category_name').sum()['views'].plot(kind='pie', title='Perbandingan Jumlah Views Setiap Kategori', legend=True)"
      ],
      "execution_count": null,
      "outputs": []
    },
    {
      "cell_type": "code",
      "metadata": {
        "id": "JAdnhC8JHYqE"
      },
      "source": [
        "# horizontal stacked bar chart Perbandingan Jumlah Views, Likes, dan Comments Setiap Kategori\n",
        "df.groupby(['category_name']).sum().plot(kind='barh', y=['views', 'likes','dislikes', 'comment_count'], stacked=True)"
      ],
      "execution_count": null,
      "outputs": []
    },
    {
      "cell_type": "code",
      "metadata": {
        "id": "T7KrmVmAIIFe"
      },
      "source": [
        "trending.plot(kind = \"barh\", stacked = True, y = [\"views\", \"likes\", \"comment_count\",\"dislikes\"])"
      ],
      "execution_count": null,
      "outputs": []
    },
    {
      "cell_type": "code",
      "metadata": {
        "id": "dwKHQzi3LMQi"
      },
      "source": [
        "trending.plot(kind = \"barh\", stacked = True, y = [\"likes\", \"comment_count\",\"dislikes\"])"
      ],
      "execution_count": null,
      "outputs": []
    },
    {
      "cell_type": "markdown",
      "metadata": {
        "id": "pXf2pc5taUl-"
      },
      "source": [
        "### Visualisasi korelasi views dan likes"
      ]
    },
    {
      "cell_type": "code",
      "metadata": {
        "id": "iRW5KIX1WtHT"
      },
      "source": [
        "x = df[\"views\"].values.reshape(-1,1)\n",
        "y = df[\"likes\"].values.reshape(-1,1)\n",
        "\n",
        "regresi = LinearRegression().fit(x,y)\n",
        "hasil = regresi.predict(x)\n",
        "sns.scatterplot(x=df[\"views\"], y=df[\"likes\"])\n",
        "plt.plot(x,hasil, color=\"red\")\n",
        "plt.xlabel(\"Views\")\n",
        "plt.ylabel(\"Likes\")\n",
        "plt.title(\"Plot Views vs Likes\")\n",
        "print(\"Koefisien korelasi antara views dan likes adalah \" + str(df[\"views\"].corr(df[\"likes\"])))"
      ],
      "execution_count": null,
      "outputs": []
    },
    {
      "cell_type": "markdown",
      "metadata": {
        "id": "QLY5b2QAGHDC"
      },
      "source": [
        "Data diatas menunjukkan adanya korelasi positif antara views dan likes. Warna garis dibuat merah agar terlihat secara jelas garis regresi dari data."
      ]
    },
    {
      "cell_type": "markdown",
      "metadata": {
        "id": "EzOYsPuAKSCK"
      },
      "source": [
        "Insight yang didapat adalah apabila views naik, maka likes juga akan cenderung naik."
      ]
    },
    {
      "cell_type": "code",
      "metadata": {
        "id": "N9aQu0uP_qty"
      },
      "source": [
        "sns.jointplot(data=df, x=\"views\", y=\"likes\",hue = \"category_name\", kind=\"kde\", figsize = (18,8))"
      ],
      "execution_count": null,
      "outputs": []
    },
    {
      "cell_type": "markdown",
      "metadata": {
        "id": "Uslo53ilMf5J"
      },
      "source": [
        "Dapat dilihat semua berkumpul pada satu daerah"
      ]
    },
    {
      "cell_type": "markdown",
      "metadata": {
        "id": "y9NdwI-PS6Y9"
      },
      "source": [
        "### Korelasi antar kolom data"
      ]
    },
    {
      "cell_type": "code",
      "metadata": {
        "id": "EEc_WniUaqco"
      },
      "source": [
        "correlation_list = ['views', 'likes', 'dislikes', 'comment_count']\n",
        "hm_data = df[correlation_list].corr() \n",
        "display(hm_data)"
      ],
      "execution_count": null,
      "outputs": []
    },
    {
      "cell_type": "markdown",
      "metadata": {
        "id": "c7n5zz4mGbLP"
      },
      "source": [
        "Tabel diatas merupakan tabel korelasi antar variabel kuantitatif. Korelasi terbesar ditunjukkan oleh like-view dengan nilai R 0.849."
      ]
    },
    {
      "cell_type": "markdown",
      "metadata": {
        "id": "ivIeC8nSJYU6"
      },
      "source": [
        "Insight yang didapatkan dari tabel korelasi ini adalah apabila views tinggi, maka kecenderungan likes dan comment akan naik pula. Dan apabila likes atau dislikes tinggi, kecenderungan untuk mendapatkan comment naik juga. "
      ]
    },
    {
      "cell_type": "markdown",
      "metadata": {
        "id": "eGhe_jWUJpRs"
      },
      "source": [
        "Yang dapat disimpulkan adalah, video trending biasanya viral dengan banyak likes yang berbanding lurus dengan views."
      ]
    },
    {
      "cell_type": "code",
      "metadata": {
        "id": "VnL46PuSZU2U"
      },
      "source": [
        "plt.figure(figsize=(8,6))\n",
        "sns.heatmap(hm_data, annot=True);"
      ],
      "execution_count": null,
      "outputs": []
    },
    {
      "cell_type": "markdown",
      "metadata": {
        "id": "STBkwTscGnFk"
      },
      "source": [
        "Diatas adalah heatmap dari data korelasi yang telah dipaparkan diatas, agar lebih mudah dilihat dalam bentuk visual."
      ]
    },
    {
      "cell_type": "code",
      "metadata": {
        "id": "GmzNxOdY0LnX"
      },
      "source": [
        "scatter_matrix(df[correlation_list], alpha=0.2, figsize=(6, 6), diagonal='kde')"
      ],
      "execution_count": null,
      "outputs": []
    }
  ]
}